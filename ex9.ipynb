{
 "cells": [
  {
   "cell_type": "code",
   "execution_count": 3,
   "metadata": {},
   "outputs": [
    {
     "name": "stdout",
     "output_type": "stream",
     "text": [
      "here are the days: Mon Tue Wed Thru Fri Sat\n",
      "here are the months:  \n",
      "Jan\n",
      "Feb\n",
      "March\n",
      "April\n",
      "May\n",
      "June\n",
      "July\n",
      "August\n",
      "Nov\n",
      "Dec\n"
     ]
    }
   ],
   "source": [
    "days = \"Mon Tue Wed Thru Fri Sat\"\n",
    "months = \"\\nJan\\nFeb\\nMarch\\nApril\\nMay\\nJune\\nJuly\\nAugust\\nNov\\nDec\"\n",
    "\n",
    "print(\"here are the days:\", days)\n",
    "print(\"here are the months: \", months)"
   ]
  },
  {
   "cell_type": "code",
   "execution_count": 5,
   "metadata": {},
   "outputs": [
    {
     "name": "stdout",
     "output_type": "stream",
     "text": [
      "\n",
      "    There's something going on here.\n",
      "    With the three double-quotes.\n",
      "    We'll be able to type as much as we like.\n",
      "    Even4linesifwewant,or5,or6.\n",
      "\n"
     ]
    }
   ],
   "source": [
    "print(\"\"\"\n",
    "    There's something going on here.\n",
    "    With the three double-quotes.\n",
    "    We'll be able to type as much as we like.\n",
    "    Even4linesifwewant,or5,or6.\n",
    "\"\"\")"
   ]
  },
  {
   "cell_type": "code",
   "execution_count": null,
   "metadata": {},
   "outputs": [],
   "source": []
  }
 ],
 "metadata": {
  "kernelspec": {
   "display_name": "Python 3",
   "language": "python",
   "name": "python3"
  },
  "language_info": {
   "codemirror_mode": {
    "name": "ipython",
    "version": 3
   },
   "file_extension": ".py",
   "mimetype": "text/x-python",
   "name": "python",
   "nbconvert_exporter": "python",
   "pygments_lexer": "ipython3",
   "version": "3.7.1"
  }
 },
 "nbformat": 4,
 "nbformat_minor": 2
}
