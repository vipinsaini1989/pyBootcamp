{
 "cells": [
  {
   "cell_type": "code",
   "execution_count": 6,
   "metadata": {},
   "outputs": [
    {
     "name": "stdout",
     "output_type": "stream",
     "text": [
      "We can give function number directly\n",
      "You have 20 cheese!\n",
      "You have 30 boxes of crackers\n",
      "Get a blanket!! \n",
      "\n",
      "Or we user variables from script\n",
      "You have 20 cheese!\n",
      "You have 50 boxes of crackers\n",
      "Get a blanket!! \n",
      "\n",
      "We can even do maths\n",
      "You have 12 cheese!\n",
      "You have 60 boxes of crackers\n",
      "Get a blanket!! \n",
      "\n",
      "We can combine two: declared variable and math\n",
      "You have 25 cheese!\n",
      "You have 100 boxes of crackers\n",
      "Get a blanket!! \n",
      "\n"
     ]
    }
   ],
   "source": [
    "def cheese_and_crakers(cheese_count, boxes_of_crackers):\n",
    "    print(f\"You have {cheese_count} cheese!\")\n",
    "    print(f\"You have {boxes_of_crackers} boxes of crackers\")\n",
    "    print(\"Get a blanket!! \\n\")\n",
    "    \n",
    "\n",
    "print(\"We can give function number directly\")\n",
    "cheese_and_crakers(20,30)\n",
    "\n",
    "print(\"Or we user variables from script\")\n",
    "amount_of_cheese = 20\n",
    "amount_of_crackers = 50\n",
    "\n",
    "cheese_and_crakers(amount_of_cheese,amount_of_crackers)\n",
    "\n",
    "print(\"We can even do maths\")\n",
    "cheese_and_crakers(10+2,12*5)\n",
    "\n",
    "print(\"We can combine two: declared variable and math\")\n",
    "cheese_and_crakers(amount_of_cheese +5, amount_of_crackers *2)\n"
   ]
  },
  {
   "cell_type": "code",
   "execution_count": null,
   "metadata": {},
   "outputs": [],
   "source": []
  }
 ],
 "metadata": {
  "kernelspec": {
   "display_name": "Python 3",
   "language": "python",
   "name": "python3"
  },
  "language_info": {
   "codemirror_mode": {
    "name": "ipython",
    "version": 3
   },
   "file_extension": ".py",
   "mimetype": "text/x-python",
   "name": "python",
   "nbconvert_exporter": "python",
   "pygments_lexer": "ipython3",
   "version": "3.7.1"
  }
 },
 "nbformat": 4,
 "nbformat_minor": 2
}
