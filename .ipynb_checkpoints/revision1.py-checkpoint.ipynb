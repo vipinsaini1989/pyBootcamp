{
 "cells": [
  {
   "cell_type": "code",
   "execution_count": null,
   "metadata": {},
   "outputs": [],
   "source": [
    "print(\"How many peoples were there?\")\n",
    "user1 = input(\"> \")\n",
    "user2 = input(\"> \")\n",
    "user3 = input(\"> \")\n",
    "user4 = input(\"> \")\n",
    "\n",
    "user1_spent = int(input(f\"How much {user1} spent?\"))\n",
    "user2_spent = int(input(f\"How much {user2} spent?\"))\n",
    "user3_spent = int(input(f\"How much {user3} spent?\"))\n",
    "user4_spent = int(input(f\"How much {user4} spent?\"))\n",
    "\n",
    "user1_gave = int(input(f\"How much {user1} gave?\"))\n",
    "user2_gave = int(input(f\"How much {user2} gave?\"))\n",
    "user3_gave = int(input(f\"How much {user3} gave?\"))\n",
    "user4_gave = int(input(f\"How much {user4} gave?\"))\n",
    "\n",
    "total_spent = user1_spent + user2_spent + user3_spent + user4_spent\n",
    "\n",
    "print(\n",
    "f\"\"\"\n",
    "Alright, you spent {total_spent}\n",
    "    * {user1} will get {user1_spent - user1_gave}\n",
    "    * {user2} will get {user2_spent - user2_gave}\n",
    "    * {user3} will get {user3_spent - user3_gave}\n",
    "    * {user4} will get {user4_spent - user4_gave}\n",
    "\"\"\")"
   ]
  },
  {
   "cell_type": "code",
   "execution_count": null,
   "metadata": {},
   "outputs": [],
   "source": []
  }
 ],
 "metadata": {
  "kernelspec": {
   "display_name": "Python 3",
   "language": "python",
   "name": "python3"
  },
  "language_info": {
   "codemirror_mode": {
    "name": "ipython",
    "version": 3
   },
   "file_extension": ".py",
   "mimetype": "text/x-python",
   "name": "python",
   "nbconvert_exporter": "python",
   "pygments_lexer": "ipython3",
   "version": "3.7.1"
  }
 },
 "nbformat": 4,
 "nbformat_minor": 2
}
