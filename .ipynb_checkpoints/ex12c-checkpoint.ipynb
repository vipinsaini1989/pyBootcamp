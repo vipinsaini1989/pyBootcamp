{
 "cells": [
  {
   "cell_type": "code",
   "execution_count": 4,
   "metadata": {},
   "outputs": [
    {
     "name": "stdout",
     "output_type": "stream",
     "text": [
      "Enter number of floors?6\n",
      "what is the current postion of lift?3\n",
      "Enter the destination floor6\n",
      "where are you starting from0\n",
      "Num of floor travell by lift is: 9\n"
     ]
    }
   ],
   "source": [
    "num_of_floor = int(input(\"Enter number of floors? \"))\n",
    "current_pos = int(input(\"what is the current postion of lift? \"))\n",
    "destination_pos = int(input(\"Enter the destination floor: \"))\n",
    "starting_from = int(input(\"where are you starting from? \"))\n",
    "\n",
    "first_lift_travel = abs(current_pos - starting_from)\n",
    "second_lift_travel = abs(starting_from - destination_pos)\n",
    "\n",
    "print(f\"Num of floor travell by lift is: {first_lift_travel + second_lift_travel}\")\n",
    "\n"
   ]
  },
  {
   "cell_type": "code",
   "execution_count": null,
   "metadata": {},
   "outputs": [],
   "source": []
  }
 ],
 "metadata": {
  "kernelspec": {
   "display_name": "Python 3",
   "language": "python",
   "name": "python3"
  },
  "language_info": {
   "codemirror_mode": {
    "name": "ipython",
    "version": 3
   },
   "file_extension": ".py",
   "mimetype": "text/x-python",
   "name": "python",
   "nbconvert_exporter": "python",
   "pygments_lexer": "ipython3",
   "version": "3.7.1"
  }
 },
 "nbformat": 4,
 "nbformat_minor": 2
}
