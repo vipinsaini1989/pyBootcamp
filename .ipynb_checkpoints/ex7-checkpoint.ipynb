{
 "cells": [
  {
   "cell_type": "code",
   "execution_count": 2,
   "metadata": {},
   "outputs": [
    {
     "name": "stdout",
     "output_type": "stream",
     "text": [
      "Mary had little lamb.\n",
      "Its fleece is as white as snow.\n",
      "..........\n"
     ]
    }
   ],
   "source": [
    "print(\"Mary had little lamb.\")\n",
    "print(\"Its fleece is as white as {}.\".format('snow'))\n",
    "print(\".\"*10)"
   ]
  },
  {
   "cell_type": "code",
   "execution_count": 5,
   "metadata": {},
   "outputs": [
    {
     "name": "stdout",
     "output_type": "stream",
     "text": [
      "CeeeseBurger\n"
     ]
    }
   ],
   "source": [
    "end1 = \"C\"\n",
    "end2 = \"e\"\n",
    "end3 = \"e\"\n",
    "end4 = \"e\"\n",
    "end5 = \"s\"\n",
    "end6 = \"e\"\n",
    "end7 = \"B\"\n",
    "end8 = \"u\"\n",
    "end9 = \"r\"\n",
    "end10 = \"g\"\n",
    "end11 = \"e\"\n",
    "end12 = \"r\"\n",
    "\n",
    "end = ''\n",
    "print(end1 + end2 + end3 + end4 + end5 + end6, end='') #what happened here?\n",
    "print(end7 + end8 + end9 + end10 +end11 + end12)"
   ]
  },
  {
   "cell_type": "code",
   "execution_count": null,
   "metadata": {},
   "outputs": [],
   "source": []
  }
 ],
 "metadata": {
  "kernelspec": {
   "display_name": "Python 3",
   "language": "python",
   "name": "python3"
  },
  "language_info": {
   "codemirror_mode": {
    "name": "ipython",
    "version": 3
   },
   "file_extension": ".py",
   "mimetype": "text/x-python",
   "name": "python",
   "nbconvert_exporter": "python",
   "pygments_lexer": "ipython3",
   "version": "3.7.1"
  }
 },
 "nbformat": 4,
 "nbformat_minor": 2
}
