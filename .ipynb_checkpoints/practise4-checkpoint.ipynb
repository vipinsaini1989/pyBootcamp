{
 "cells": [
  {
   "cell_type": "code",
   "execution_count": 3,
   "metadata": {},
   "outputs": [
    {
     "name": "stdout",
     "output_type": "stream",
     "text": [
      "Enter you weight(kg):57\n",
      "Enter you height(cms):159\n",
      "Enter you age(year):29\n",
      "\n",
      "    Total calories required by you is: 1450.3990000000001\n",
      "    --------------------\n",
      "    You will need 16.0 Banana\n",
      "    You will need 9.0 Egg\n",
      "    You will need 27.0 Apple      \n",
      "    \n"
     ]
    }
   ],
   "source": [
    "def get_user_data():\n",
    "    weight = int(input(\"Enter you weight(kg):\"))\n",
    "    height = int(input(\"Enter you height(cms):\"))\n",
    "    age = int(input(\"Enter you age(year):\"))\n",
    "    return weight, height,age\n",
    "    \n",
    "\n",
    "def calculate_BMR():\n",
    "    weight, height,age = get_user_data()\n",
    "    # formula BMR(men) = 88.362 + (13.397 x weight in kg) + (4.799 x height in cm) - (5.677 x age in years)\n",
    "    BMR = 88.362\n",
    "    BMR_WEIGHT = 13.397\n",
    "    BMR_HEIGHT = 4.799\n",
    "    BMR_AGE = 5.677\n",
    "    \n",
    "    bmr_value = 88.362 + (13.397 * weight) + (4.799 * height) - (5.677 * age)\n",
    "    return bmr_value\n",
    "\n",
    "def show_calorie_data():\n",
    "    bmr_value = calculate_BMR()\n",
    "    BANANA_CALORIE = 89\n",
    "    EGG_CALORIE = 155\n",
    "    APPLE_CALORIE= 52\n",
    "    \n",
    "    print(f\"\"\"\n",
    "    Total calories required by you is: {bmr_value}\n",
    "    {\"-\" * 50}\n",
    "    You will need {bmr_value // BANANA_CALORIE} Banana\n",
    "    You will need {bmr_value // EGG_CALORIE} Egg\n",
    "    You will need {bmr_value // APPLE_CALORIE} Apple      \n",
    "    \"\"\")\n",
    "    \n",
    "show_calorie_data()\n",
    "    "
   ]
  },
  {
   "cell_type": "code",
   "execution_count": null,
   "metadata": {},
   "outputs": [],
   "source": []
  }
 ],
 "metadata": {
  "kernelspec": {
   "display_name": "Python 3",
   "language": "python",
   "name": "python3"
  },
  "language_info": {
   "codemirror_mode": {
    "name": "ipython",
    "version": 3
   },
   "file_extension": ".py",
   "mimetype": "text/x-python",
   "name": "python",
   "nbconvert_exporter": "python",
   "pygments_lexer": "ipython3",
   "version": "3.7.1"
  }
 },
 "nbformat": 4,
 "nbformat_minor": 2
}
