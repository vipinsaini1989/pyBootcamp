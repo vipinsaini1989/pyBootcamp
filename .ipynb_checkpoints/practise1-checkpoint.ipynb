{
 "cells": [
  {
   "cell_type": "code",
   "execution_count": 3,
   "metadata": {},
   "outputs": [
    {
     "name": "stdout",
     "output_type": "stream",
     "text": [
      "Hi, I am a bio-generator\n",
      "what is your name: vipin saini\n",
      "where are you from: Ambala\n",
      "what is your profession: developer\n",
      "what is your age: 29\n",
      "\n",
      "    Hello, My name is vipin saini\n",
      "    I am from Ambala\n",
      "    My profession is developer\n",
      "    My age is 29\n",
      "    so, i was born in 1990\n",
      "\n"
     ]
    }
   ],
   "source": [
    "# Bio generator\n",
    "\n",
    "print(\"Hi, I am a bio-generator\")\n",
    "name = input(\"what is your name: \")\n",
    "city = input(\"where are you from: \")\n",
    "profession = input(\"what is your profession: \")\n",
    "age = int(input(\"what is your age: \"))\n",
    "\n",
    "print(f\"\"\"\n",
    "    Hello, My name is {name}\n",
    "    I am from {city}\n",
    "    My profession is {profession}\n",
    "    My age is {age}\n",
    "    so, i was born in {2019 - age}\n",
    "\"\"\")"
   ]
  },
  {
   "cell_type": "code",
   "execution_count": null,
   "metadata": {},
   "outputs": [],
   "source": []
  }
 ],
 "metadata": {
  "kernelspec": {
   "display_name": "Python 3",
   "language": "python",
   "name": "python3"
  },
  "language_info": {
   "codemirror_mode": {
    "name": "ipython",
    "version": 3
   },
   "file_extension": ".py",
   "mimetype": "text/x-python",
   "name": "python",
   "nbconvert_exporter": "python",
   "pygments_lexer": "ipython3",
   "version": "3.7.1"
  }
 },
 "nbformat": 4,
 "nbformat_minor": 2
}
