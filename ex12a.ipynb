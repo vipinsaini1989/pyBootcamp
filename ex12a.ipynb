{
 "cells": [
  {
   "cell_type": "code",
   "execution_count": 4,
   "metadata": {},
   "outputs": [
    {
     "name": "stdout",
     "output_type": "stream",
     "text": [
      "what you had in breakfast?sprouts\n",
      "what you had in lunch?Rice\n",
      "what you want in dinner?Dosa\n",
      "\n",
      "Today I ate\n",
      "    #sprouts in Breakfast\n",
      "    #Rice in Lunch\n",
      "    #Dosa in Dinner\n",
      "\n"
     ]
    }
   ],
   "source": [
    "breakfast = input(\"what you had in breakfast?\")\n",
    "lunch = input(\"what you had in lunch?\")\n",
    "dinner = input(\"what you want in dinner?\")\n",
    "\n",
    "print(f\"\"\"\n",
    "Today I ate\n",
    "    #{breakfast} in Breakfast\n",
    "    #{lunch} in Lunch\n",
    "    #{dinner} in Dinner\n",
    "\"\"\")"
   ]
  },
  {
   "cell_type": "code",
   "execution_count": null,
   "metadata": {},
   "outputs": [],
   "source": []
  }
 ],
 "metadata": {
  "kernelspec": {
   "display_name": "Python 3",
   "language": "python",
   "name": "python3"
  },
  "language_info": {
   "codemirror_mode": {
    "name": "ipython",
    "version": 3
   },
   "file_extension": ".py",
   "mimetype": "text/x-python",
   "name": "python",
   "nbconvert_exporter": "python",
   "pygments_lexer": "ipython3",
   "version": "3.7.1"
  }
 },
 "nbformat": 4,
 "nbformat_minor": 2
}
