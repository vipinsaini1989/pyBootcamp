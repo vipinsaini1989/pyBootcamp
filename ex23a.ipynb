{
 "cells": [
  {
   "cell_type": "code",
   "execution_count": 2,
   "metadata": {},
   "outputs": [
    {
     "name": "stdout",
     "output_type": "stream",
     "text": [
      "Enter you marks(in percentage): 76\n",
      "your grade is B\n"
     ]
    }
   ],
   "source": [
    "marks = int(input(\"Enter you marks(in percentage): \"))\n",
    "\n",
    "if marks >= 80:\n",
    "    print(f\"your grade is A\")\n",
    "else:\n",
    "    print(\"your grade is B\")"
   ]
  },
  {
   "cell_type": "code",
   "execution_count": 3,
   "metadata": {},
   "outputs": [
    {
     "name": "stdout",
     "output_type": "stream",
     "text": [
      "Enter you marks(in percentage): 56\n",
      "you score: Fail\n"
     ]
    }
   ],
   "source": [
    "marks = int(input(\"Enter you marks(in percentage): \"))\n",
    "\n",
    "if marks >= 80:\n",
    "    print(\"you score: Grade A\")\n",
    "elif marks >=70:\n",
    "    print(\"you score: Grade B\")\n",
    "elif marks >= 60:\n",
    "    print(\"you score: Grade C\")\n",
    "else: \n",
    "    print(\"you score: Fail\")"
   ]
  },
  {
   "cell_type": "code",
   "execution_count": null,
   "metadata": {},
   "outputs": [],
   "source": [
    "def check"
   ]
  }
 ],
 "metadata": {
  "kernelspec": {
   "display_name": "Python 3",
   "language": "python",
   "name": "python3"
  },
  "language_info": {
   "codemirror_mode": {
    "name": "ipython",
    "version": 3
   },
   "file_extension": ".py",
   "mimetype": "text/x-python",
   "name": "python",
   "nbconvert_exporter": "python",
   "pygments_lexer": "ipython3",
   "version": "3.7.1"
  }
 },
 "nbformat": 4,
 "nbformat_minor": 2
}
