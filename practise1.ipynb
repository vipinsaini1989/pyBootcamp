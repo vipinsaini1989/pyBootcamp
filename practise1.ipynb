{
 "cells": [
  {
   "cell_type": "code",
   "execution_count": 3,
   "metadata": {},
   "outputs": [
    {
     "name": "stdout",
     "output_type": "stream",
     "text": [
      "Hi, I am a bio-generator\n",
      "what is your name: vipin saini\n",
      "where are you from: Ambala\n",
      "what is your profession: developer\n",
      "what is your age: 29\n",
      "\n",
      "    Hello, My name is vipin saini\n",
      "    I am from Ambala\n",
      "    My profession is developer\n",
      "    My age is 29\n",
      "    so, i was born in 1990\n",
      "\n"
     ]
    }
   ],
   "source": [
    "# Bio generator\n",
    "\n",
    "print(\"Hi, I am a bio-generator\")\n",
    "name = input(\"what is your name: \")\n",
    "city = input(\"where are you from: \")\n",
    "profession = input(\"what is your profession: \")\n",
    "age = int(input(\"what is your age: \"))\n",
    "\n",
    "print(f\"\"\"\n",
    "    Hello, My name is {name}\n",
    "    I am from {city}\n",
    "    My profession is {profession}\n",
    "    My age is {age}\n",
    "    so, i was born in {2019 - age}\n",
    "\"\"\")"
   ]
  },
  {
   "cell_type": "code",
   "execution_count": 12,
   "metadata": {},
   "outputs": [
    {
     "name": "stdout",
     "output_type": "stream",
     "text": [
      "Hi, I am a bio-generator\n",
      "what is your name: Vipin saini\n",
      "where are you from: ambala\n",
      "what is your profession: developer\n",
      "what is your age: 29\n",
      "Enter the filename: new_sample.txt\n",
      "Done !!\n"
     ]
    }
   ],
   "source": [
    "print(\"Hi, I am a bio-generator\")\n",
    "name = input(\"what is your name: \")\n",
    "city = input(\"where are you from: \")\n",
    "profession = input(\"what is your profession: \")\n",
    "age = int(input(\"what is your age: \"))\n",
    "filename = input(\"Enter the filename: \")\n",
    "\n",
    "bio = f\"\"\"\n",
    "    Hello, My name is {name}\n",
    "    I am from {city}\n",
    "    My profession is {profession}\n",
    "    My age is {age}\n",
    "    so, i was born in {2019 - age}\n",
    "\"\"\"\n",
    "\n",
    "file = open(filename,\"w\")\n",
    "file.write(bio)\n",
    "file.close()\n",
    "\n",
    "print(\"Done !!\")"
   ]
  },
  {
   "cell_type": "code",
   "execution_count": 16,
   "metadata": {},
   "outputs": [
    {
     "name": "stdout",
     "output_type": "stream",
     "text": [
      "what is your name: vipin kumar saini\n",
      "where are you from: ambala\n",
      "what is your profession: developer\n",
      "what is your age: 29\n",
      "\n",
      "        Hello, My name is vipin kumar saini\n",
      "        I am from ambala\n",
      "        My profession is developer\n",
      "        My age is 29\n",
      "        so, i was born in 1990\n",
      "    \n"
     ]
    }
   ],
   "source": [
    "def get_user_input():\n",
    "    name = input(\"what is your name: \")\n",
    "    city = input(\"where are you from: \")\n",
    "    profession = input(\"what is your profession: \")\n",
    "    age = int(input(\"what is your age: \"))\n",
    "    return name, city, profession, age\n",
    "\n",
    "    \n",
    "def prepare_bio(name,city,profession,age):\n",
    "    bio = f\"\"\"\n",
    "        Hello, My name is {name}\n",
    "        I am from {city}\n",
    "        My profession is {profession}\n",
    "        My age is {age}\n",
    "        so, i was born in {2019 - age}\n",
    "    \"\"\"\n",
    "    return bio\n",
    "\n",
    "my_name,my_city,my_profession,my_age = get_user_input()\n",
    "bio= prepare_bio(my_name,my_city,my_profession,my_age)\n",
    "print(bio)"
   ]
  },
  {
   "cell_type": "code",
   "execution_count": null,
   "metadata": {},
   "outputs": [],
   "source": []
  }
 ],
 "metadata": {
  "kernelspec": {
   "display_name": "Python 3",
   "language": "python",
   "name": "python3"
  },
  "language_info": {
   "codemirror_mode": {
    "name": "ipython",
    "version": 3
   },
   "file_extension": ".py",
   "mimetype": "text/x-python",
   "name": "python",
   "nbconvert_exporter": "python",
   "pygments_lexer": "ipython3",
   "version": "3.7.1"
  }
 },
 "nbformat": 4,
 "nbformat_minor": 2
}
