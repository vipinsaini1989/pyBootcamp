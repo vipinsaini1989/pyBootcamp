{
 "cells": [
  {
   "cell_type": "code",
   "execution_count": 3,
   "metadata": {},
   "outputs": [
    {
     "name": "stdout",
     "output_type": "stream",
     "text": [
      "\tI'm tabbed in.\n",
      "I'm split\n",
      "on line.\n",
      "I'm \\a \\cat.\n",
      "\n",
      "    I'll do a list:\n",
      "    \t* Cat food\n",
      "    \t* Fishies\n",
      "    \t* Catnip\n",
      "\t* Grass\n",
      "\n"
     ]
    }
   ],
   "source": [
    "tabby_cat = \"\\tI'm tabbed in.\"\n",
    "persian_cat = \"I'm split\\non line.\"\n",
    "backslash_cat = \"I'm \\\\a \\\\cat.\"\n",
    "\n",
    "fat_cat = \"\"\"\n",
    "    I'll do a list:\n",
    "    \\t* Cat food\n",
    "    \\t* Fishies\n",
    "    \\t* Catnip\\n\\t* Grass\n",
    "\"\"\"\n",
    "\n",
    "print(tabby_cat)\n",
    "print(persian_cat)\n",
    "print(backslash_cat)\n",
    "print(fat_cat)"
   ]
  },
  {
   "cell_type": "code",
   "execution_count": 2,
   "metadata": {},
   "outputs": [
    {
     "name": "stdout",
     "output_type": "stream",
     "text": [
      "\n",
      "Today I ate\n",
      "    #Rice\n",
      "\n",
      "\n"
     ]
    }
   ],
   "source": [
    "print(\"\"\"\n",
    "Today I ate\n",
    "    #Rice\n",
    "\n",
    "\"\"\")"
   ]
  },
  {
   "cell_type": "code",
   "execution_count": null,
   "metadata": {},
   "outputs": [],
   "source": []
  }
 ],
 "metadata": {
  "kernelspec": {
   "display_name": "Python 3",
   "language": "python",
   "name": "python3"
  },
  "language_info": {
   "codemirror_mode": {
    "name": "ipython",
    "version": 3
   },
   "file_extension": ".py",
   "mimetype": "text/x-python",
   "name": "python",
   "nbconvert_exporter": "python",
   "pygments_lexer": "ipython3",
   "version": "3.7.1"
  }
 },
 "nbformat": 4,
 "nbformat_minor": 2
}
